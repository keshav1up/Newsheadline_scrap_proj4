{
 "cells": [
  {
   "cell_type": "code",
   "execution_count": 11,
   "id": "d1fb2615-af89-4d27-9e24-1e7de2b56479",
   "metadata": {},
   "outputs": [
    {
     "name": "stdout",
     "output_type": "stream",
     "text": [
      "Fetching Hacker News headlines...\n",
      "Found 30 headlines.\n",
      "\n",
      "1. Wikimedia Foundation Challenges UK Online Safety Act Regulations\n",
      "2. OpenSSH Post-Quantum Cryptography\n",
      "3. I tried every todo app and ended up with a .txt file\n",
      "4. Claude Code is all you need\n",
      "5. Faster substring search with SIMD in Zig\n",
      "6. AOL to discontinue dial-up internet\n",
      "7. Pricing Pages – A Curated Gallery of Pricing Page Designs\n",
      "8. The Chrome VRP Panel has decided to award $250k for this report\n",
      "9. Designing Software in the Large\n",
      "10. Vanishing from Hyundai’s data network\n",
      "11. Operation Costs in CPU Clock Cycles (2016)\n",
      "12. GPT-OSS-120B runs on just 8GB VRAM & 64GB+ system RAM\n",
      "13. Hand-picked selection of articles on AI fundamentals/concepts\n",
      "14. Millau Viaduct\n",
      "15. A Global Look at Teletext\n",
      "16. Going faster than memcpy\n",
      "17. TeaOnHer, a rival Tea app for men, is leaking users' personal data\n",
      "18. Try and\n",
      "19. A simple pixel physics simulator in Rust using Macroquad\n",
      "20. Meta Leaks Part 1: Israel and Meta, the Greatest Global Mass Censorship Campaign\n",
      "21. Show HN: 1 Million Rows\n",
      "22. GPT-OSS vs. Qwen3 and a detailed look how things evolved since GPT-2\n",
      "23. Generic Containers in C: Safe Division Using Maybe\n",
      "24. Self-Guaranteeing Promises\n",
      "25. Compiling a Lisp: Lambda lifting\n",
      "26. Mistral Integration Improved in Llama.cpp\n",
      "27. Show HN: Bolt – A super-fast, statically-typed scripting language written in C\n",
      "28. Lists and Lists: Basics of Lisp through interactive fiction (1996)\n",
      "29. Creating the Longest Possible Ski Jump in “The Games: Winter Challenge”\n",
      "30. Fight Chat Control\n"
     ]
    }
   ],
   "source": [
    "import requests\n",
    "from bs4 import BeautifulSoup\n",
    "\n",
    "def fetch_hacker_news_headlines():\n",
    "    url = 'https://news.ycombinator.com/'\n",
    "    response = requests.get(url)\n",
    "    if response.status_code != 200:\n",
    "        print(f\"Failed to retrieve news: Status code {response.status_code}\")\n",
    "        return []\n",
    "    soup = BeautifulSoup(response.text, 'html.parser')\n",
    "    headlines = []\n",
    "    for span in soup.find_all('span', class_='titleline'):\n",
    "        a_tag = span.find('a')\n",
    "        if a_tag and a_tag.text:\n",
    "            headlines.append(a_tag.text)\n",
    "    return headlines\n",
    "\n",
    "def main():\n",
    "    print(\"Fetching Hacker News headlines...\")\n",
    "    headlines = fetch_hacker_news_headlines()\n",
    "    if not headlines:\n",
    "        print(\"No headlines found.\")\n",
    "        return\n",
    "    print(f\"Found {len(headlines)} headlines.\\n\")\n",
    "    for i, headline in enumerate(headlines, 1):\n",
    "        print(f\"{i}. {headline}\")\n",
    "\n",
    "if __name__ == '__main__':\n",
    "    main()\n"
   ]
  },
  {
   "cell_type": "code",
   "execution_count": null,
   "id": "5089cf97-2505-4b21-9d1e-adec4f78ab01",
   "metadata": {},
   "outputs": [],
   "source": []
  }
 ],
 "metadata": {
  "kernelspec": {
   "display_name": "Python [conda env:base] *",
   "language": "python",
   "name": "conda-base-py"
  },
  "language_info": {
   "codemirror_mode": {
    "name": "ipython",
    "version": 3
   },
   "file_extension": ".py",
   "mimetype": "text/x-python",
   "name": "python",
   "nbconvert_exporter": "python",
   "pygments_lexer": "ipython3",
   "version": "3.13.5"
  }
 },
 "nbformat": 4,
 "nbformat_minor": 5
}
